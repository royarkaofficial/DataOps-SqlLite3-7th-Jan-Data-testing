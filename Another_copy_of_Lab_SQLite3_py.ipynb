{
  "nbformat": 4,
  "nbformat_minor": 0,
  "metadata": {
    "colab": {
      "provenance": [],
      "include_colab_link": true
    },
    "kernelspec": {
      "name": "python3",
      "display_name": "Python 3"
    },
    "language_info": {
      "name": "python"
    }
  },
  "cells": [
    {
      "cell_type": "markdown",
      "metadata": {
        "id": "view-in-github",
        "colab_type": "text"
      },
      "source": [
        "<a href=\"https://colab.research.google.com/github/royarkaofficial/DataOps-SqlLite3-7th-Jan-Data-testing/blob/main/Another_copy_of_Lab_SQLite3_py.ipynb\" target=\"_parent\"><img src=\"https://colab.research.google.com/assets/colab-badge.svg\" alt=\"Open In Colab\"/></a>"
      ]
    },
    {
      "cell_type": "markdown",
      "source": [
        "#Problem Statement:\n",
        "Title: Demonstrating Python-SQLite3 Integration for Database Operations\n",
        "\n",
        "Objective:\n",
        "\n",
        "Design and implement a Python program that establishes a connection with a SQLite database, creates a table, performs various SQL operations (INSERT, SELECT, UPDATE, DELETE, ALTER, DROP), and displays the results of each operation. This program aims to serve as a lab exercise for Participants learning database operations and their integration with Python.\n",
        "\n",
        "Problem Description:\n",
        "\n",
        "Develop a Python program that simulates a basic student database system for a lab demonstration. The program should:\n",
        "\n",
        "Establish a connection with a SQLite database.\n",
        "Create a table named students with the following fields:\n",
        "\n",
        "id: A unique identifier for each student (Primary Key).\n",
        "\n",
        "name: The student's name (Text, Not Null).\n",
        "\n",
        "age: The student's age (Integer).\n",
        "\n",
        "grade: The student's grade (Text).\n",
        "\n",
        "1. Insert sample student data into the table using the INSERT command.\n",
        "2. Query the table using the SELECT command to retrieve and display all rows.\n",
        "3. Update a student's grade using the UPDATE command.\n",
        "4. Delete a student's record based on their name using the DELETE command.\n",
        "5. Alter the table to add a new column (email) using the ALTER TABLE command.\n",
        "7. Drop the table using the DROP TABLE command.\n",
        "8. Close the database connection."
      ],
      "metadata": {
        "id": "prFxyiX5zrn7"
      }
    },
    {
      "cell_type": "code",
      "execution_count": null,
      "metadata": {
        "id": "OubNyx3dzlPt"
      },
      "outputs": [],
      "source": [
        "import sqlite3"
      ]
    },
    {
      "cell_type": "code",
      "source": [
        "#connect and create a database\n",
        "connection = sqlite3.connect('student.db')"
      ],
      "metadata": {
        "id": "2nOUWUvG0gOQ"
      },
      "execution_count": null,
      "outputs": []
    },
    {
      "cell_type": "code",
      "source": [
        "cursor = connection.cursor()"
      ],
      "metadata": {
        "id": "bBXpaIfG0vFa"
      },
      "execution_count": null,
      "outputs": []
    },
    {
      "cell_type": "code",
      "source": [
        "#create a table\n",
        "q1 = \"\"\"\n",
        "CREATE TABLE IF NOT EXISTS students(\n",
        "id INTEGER PRIMARY KEY,\n",
        "name TEXT NOT NULL,\n",
        "age INTEGER,\n",
        "grade TEXT\n",
        ")\n",
        "\"\"\"\n",
        "cursor.execute(q1)\n",
        "print(\"Students table is created\")"
      ],
      "metadata": {
        "colab": {
          "base_uri": "https://localhost:8080/"
        },
        "id": "onrnO-be0tb3",
        "outputId": "07615749-0220-417f-bed1-5fac828b5912"
      },
      "execution_count": null,
      "outputs": [
        {
          "output_type": "stream",
          "name": "stdout",
          "text": [
            "Students table is created\n"
          ]
        }
      ]
    },
    {
      "cell_type": "code",
      "source": [
        "#insert the values in the table\n",
        "data = [[101,\"Kiran\", 16, \"C\"], [102, \"Anil\", 16, \"A\"], [103, \"Sujith\", 16, \"B\"]]\n",
        "q2 = \"INSERT INTO students VALUES(?, ?, ?, ?)\"\n",
        "cursor.executemany(q2, data)\n",
        "connection.commit()\n",
        "print(\"Data is inserted\")"
      ],
      "metadata": {
        "colab": {
          "base_uri": "https://localhost:8080/"
        },
        "id": "hFbKGbdX1MIf",
        "outputId": "8690ab2b-5814-4005-d786-368dd583a699"
      },
      "execution_count": null,
      "outputs": [
        {
          "output_type": "stream",
          "name": "stdout",
          "text": [
            "Data is inserted\n"
          ]
        }
      ]
    },
    {
      "cell_type": "code",
      "source": [
        "#display all the data in the tale\n",
        "q3 =  \"SELECT * FROM students\"\n",
        "cursor.execute(q3)\n",
        "data = cursor.fetchall()\n",
        "for row in data:\n",
        "    print(row)"
      ],
      "metadata": {
        "colab": {
          "base_uri": "https://localhost:8080/"
        },
        "id": "I2M7WSHC1_QW",
        "outputId": "663d9f12-75a8-4ec5-d00e-c7503b1966eb"
      },
      "execution_count": null,
      "outputs": [
        {
          "output_type": "stream",
          "name": "stdout",
          "text": [
            "(101, 'Kiran', 16, 'C')\n",
            "(102, 'Anil', 16, 'A')\n",
            "(103, 'Sujith', 16, 'B')\n"
          ]
        }
      ]
    },
    {
      "cell_type": "code",
      "source": [
        "#Update a student's grade using the UPDATE command\n",
        "q4 = \"UPDATE students SET name = 'nikhil' WHERE id = 101\"\n",
        "cursor.execute(q4)\n",
        "connection.commit()\n",
        "print(\"Data is updated\")"
      ],
      "metadata": {
        "colab": {
          "base_uri": "https://localhost:8080/"
        },
        "id": "O5PGmN612OXt",
        "outputId": "f31d93dc-394b-4a7b-b4c8-f00630027ab1"
      },
      "execution_count": null,
      "outputs": [
        {
          "output_type": "stream",
          "name": "stdout",
          "text": [
            "Data is updated\n"
          ]
        }
      ]
    },
    {
      "cell_type": "code",
      "source": [
        "q3 =  \"SELECT * FROM students\"\n",
        "cursor.execute(q3)\n",
        "data = cursor.fetchall()\n",
        "for row in data:\n",
        "    print(row)"
      ],
      "metadata": {
        "colab": {
          "base_uri": "https://localhost:8080/"
        },
        "id": "nNuLfydt2lcS",
        "outputId": "269be7ac-81a6-4525-cc1d-422a0cc2e82a"
      },
      "execution_count": null,
      "outputs": [
        {
          "output_type": "stream",
          "name": "stdout",
          "text": [
            "(101, 'nikhil', 16, 'C')\n",
            "(102, 'Anil', 16, 'A')\n",
            "(103, 'Sujith', 16, 'B')\n"
          ]
        }
      ]
    },
    {
      "cell_type": "code",
      "source": [
        "#Delete a student's record based on their name using the DELETE command.\n",
        "q5 = \"DELETE FROM students WHERE id = 101\"\n",
        "cursor.execute(q5)\n",
        "connection.commit()\n",
        "print(\"Data is deleted\")"
      ],
      "metadata": {
        "colab": {
          "base_uri": "https://localhost:8080/"
        },
        "id": "nyxR0f-A2nR9",
        "outputId": "a14b7602-bb13-4b2e-8e1d-1e25f7c0bb69"
      },
      "execution_count": null,
      "outputs": [
        {
          "output_type": "stream",
          "name": "stdout",
          "text": [
            "Data is deleted\n"
          ]
        }
      ]
    },
    {
      "cell_type": "code",
      "source": [
        "q3 =  \"SELECT * FROM students\"\n",
        "cursor.execute(q3)\n",
        "data = cursor.fetchall()\n",
        "for row in data:\n",
        "    print(row)"
      ],
      "metadata": {
        "colab": {
          "base_uri": "https://localhost:8080/"
        },
        "id": "l08C_DMB3LH6",
        "outputId": "395690fa-d239-43db-9d5b-acd41295bbee"
      },
      "execution_count": null,
      "outputs": [
        {
          "output_type": "stream",
          "name": "stdout",
          "text": [
            "(102, 'Anil', 16, 'A')\n",
            "(103, 'Sujith', 16, 'B')\n"
          ]
        }
      ]
    },
    {
      "cell_type": "code",
      "source": [
        "#Alter the table to add a new column (email) using the ALTER TABLE command.\n",
        "q6 = \"ALTER TABLE students ADD COLUMN email TEXT\"\n",
        "cursor.execute(q6)\n",
        "connection.commit()\n",
        "print(\"New column is added\")"
      ],
      "metadata": {
        "colab": {
          "base_uri": "https://localhost:8080/"
        },
        "id": "0MjLoFbM3Ni-",
        "outputId": "fa46f27c-70d8-4f74-87b5-7d78fc0a3e75"
      },
      "execution_count": null,
      "outputs": [
        {
          "output_type": "stream",
          "name": "stdout",
          "text": [
            "New column is added\n"
          ]
        }
      ]
    },
    {
      "cell_type": "code",
      "source": [
        "q3 =  \"SELECT * FROM students\"\n",
        "cursor.execute(q3)\n",
        "data = cursor.fetchall()\n",
        "for row in data:\n",
        "    print(row)"
      ],
      "metadata": {
        "colab": {
          "base_uri": "https://localhost:8080/"
        },
        "id": "p6ZiRPfD3n95",
        "outputId": "32f81c23-195d-4b58-9a24-87d3683ba211"
      },
      "execution_count": null,
      "outputs": [
        {
          "output_type": "stream",
          "name": "stdout",
          "text": [
            "(102, 'Anil', 16, 'A', None)\n",
            "(103, 'Sujith', 16, 'B', None)\n"
          ]
        }
      ]
    },
    {
      "cell_type": "code",
      "source": [
        "cursor.execute(\"UPDATE students SET email = 'shravani@gmail.com' WHERE id = 102\")\n",
        "cursor.execute(\"UPDATE students SET email = 'soumya@gmail.com' WHERE id = 103\")\n",
        "connection.commit()"
      ],
      "metadata": {
        "id": "5JkLh4Nd3sSP"
      },
      "execution_count": null,
      "outputs": []
    },
    {
      "cell_type": "code",
      "source": [
        "q3 =  \"SELECT * FROM students\"\n",
        "cursor.execute(q3)\n",
        "data = cursor.fetchall()\n",
        "for row in data:\n",
        "    print(row)"
      ],
      "metadata": {
        "colab": {
          "base_uri": "https://localhost:8080/"
        },
        "id": "EZbhwRH64DKv",
        "outputId": "a472a627-f4bb-453d-fa48-7aeab264fc84"
      },
      "execution_count": null,
      "outputs": [
        {
          "output_type": "stream",
          "name": "stdout",
          "text": [
            "(102, 'Anil', 16, 'A', 'shravani@gmail.com')\n",
            "(103, 'Sujith', 16, 'B', 'soumya@gmail.com')\n"
          ]
        }
      ]
    },
    {
      "cell_type": "code",
      "source": [
        "#Drop the table using the DROP TABLE command\n",
        "q7 = \"DROP TABLE students\"\n",
        "cursor.execute(q7)\n",
        "connection.commit()\n",
        "print(\"Table is dropped\")"
      ],
      "metadata": {
        "colab": {
          "base_uri": "https://localhost:8080/"
        },
        "id": "YHYZ7-Pq4E01",
        "outputId": "93d34fd5-e9b8-43da-9fbc-759c9c8dfc45"
      },
      "execution_count": null,
      "outputs": [
        {
          "output_type": "stream",
          "name": "stdout",
          "text": [
            "Table is dropped\n"
          ]
        }
      ]
    },
    {
      "cell_type": "code",
      "source": [
        "q3 =  \"SELECT * FROM students\"\n",
        "cursor.execute(q3)\n",
        "data = cursor.fetchall()\n",
        "for row in data:\n",
        "    print(row)"
      ],
      "metadata": {
        "colab": {
          "base_uri": "https://localhost:8080/"
        },
        "id": "KjsAHQcP4PgZ",
        "outputId": "e2f3ec9a-b2b7-473f-dbd5-63c5ce1f2521"
      },
      "execution_count": null,
      "outputs": [
        {
          "output_type": "stream",
          "name": "stdout",
          "text": [
            "(101, 'Kiran', 16, 'C')\n",
            "(102, 'Anil', 16, 'A')\n",
            "(103, 'Sujith', 16, 'B')\n"
          ]
        }
      ]
    },
    {
      "cell_type": "code",
      "source": [
        "#Close the database connection.\n",
        "connection.close()"
      ],
      "metadata": {
        "id": "Swx-92Xd4S-3"
      },
      "execution_count": null,
      "outputs": []
    },
    {
      "cell_type": "markdown",
      "source": [
        "Checking the metadata of the database"
      ],
      "metadata": {
        "id": "-c9Tldpe5aZb"
      }
    },
    {
      "cell_type": "code",
      "source": [
        "#connect and create a database\n",
        "connection = sqlite3.connect('student.db')\n",
        "\n",
        "cursor = connection.cursor()\n",
        "\n",
        "#create a table\n",
        "q1 = \"\"\"\n",
        "CREATE TABLE IF NOT EXISTS students(\n",
        "id INTEGER PRIMARY KEY,\n",
        "name TEXT NOT NULL,\n",
        "age INTEGER,\n",
        "grade TEXT\n",
        ")\n",
        "\"\"\"\n",
        "cursor.execute(q1)\n",
        "print(\"Students table is created\")\n",
        "\n",
        "#insert the vaues in the table\n",
        "data = [[101,\"Kiran\", 16, \"C\"], [102, \"Anil\", 16, \"A\"], [103, \"Sujith\", 16, \"B\"]]\n",
        "q2 = \"INSERT INTO students VALUES(?, ?, ?, ?)\"\n",
        "cursor.executemany(q2, data)\n",
        "connection.commit()\n",
        "print(\"Data is inserted\")\n",
        "\n"
      ],
      "metadata": {
        "colab": {
          "base_uri": "https://localhost:8080/"
        },
        "id": "pJ_Ds7OZ40RK",
        "outputId": "3194e20f-0bf3-490c-fa09-113a29cf1146"
      },
      "execution_count": null,
      "outputs": [
        {
          "output_type": "stream",
          "name": "stdout",
          "text": [
            "Students table is created\n",
            "Data is inserted\n"
          ]
        }
      ]
    },
    {
      "cell_type": "code",
      "source": [
        "q8 = \"SELECT name FROM sqlite_master WHERE type = 'table'\"\n",
        "cursor.execute(q8)\n",
        "data = cursor.fetchall()\n",
        "for row in data:\n",
        "    print(row)"
      ],
      "metadata": {
        "colab": {
          "base_uri": "https://localhost:8080/"
        },
        "id": "v1EwZT4I5jIZ",
        "outputId": "b01038f3-c80f-43c6-f342-ea64c4432871"
      },
      "execution_count": null,
      "outputs": [
        {
          "output_type": "stream",
          "name": "stdout",
          "text": [
            "('students',)\n"
          ]
        }
      ]
    },
    {
      "cell_type": "code",
      "source": [
        "#extract informantion about the students table\n",
        "q9 = \"PRAGMA table_info(students)\"\n",
        "cursor.execute(q9)\n",
        "data = cursor.fetchall()\n",
        "for row in data:\n",
        "    print(row)"
      ],
      "metadata": {
        "colab": {
          "base_uri": "https://localhost:8080/"
        },
        "id": "sHPpIbxC5zt7",
        "outputId": "0b263ddc-cfa1-4106-cde4-73d043f674e3"
      },
      "execution_count": null,
      "outputs": [
        {
          "output_type": "stream",
          "name": "stdout",
          "text": [
            "(0, 'id', 'INTEGER', 0, None, 1)\n",
            "(1, 'name', 'TEXT', 1, None, 0)\n",
            "(2, 'age', 'INTEGER', 0, None, 0)\n",
            "(3, 'grade', 'TEXT', 0, None, 0)\n"
          ]
        }
      ]
    },
    {
      "cell_type": "code",
      "source": [
        "!pip install mysql-connector-python"
      ],
      "metadata": {
        "id": "yTnDPwr86Ch0",
        "colab": {
          "base_uri": "https://localhost:8080/"
        },
        "outputId": "64c93756-76be-4c0b-d5c3-8fe354e72114"
      },
      "execution_count": 1,
      "outputs": [
        {
          "output_type": "stream",
          "name": "stdout",
          "text": [
            "Collecting mysql-connector-python\n",
            "  Downloading mysql_connector_python-9.1.0-cp310-cp310-manylinux_2_28_x86_64.whl.metadata (6.0 kB)\n",
            "Downloading mysql_connector_python-9.1.0-cp310-cp310-manylinux_2_28_x86_64.whl (34.4 MB)\n",
            "\u001b[2K   \u001b[90m━━━━━━━━━━━━━━━━━━━━━━━━━━━━━━━━━━━━━━━━\u001b[0m \u001b[32m34.4/34.4 MB\u001b[0m \u001b[31m33.0 MB/s\u001b[0m eta \u001b[36m0:00:00\u001b[0m\n",
            "\u001b[?25hInstalling collected packages: mysql-connector-python\n",
            "Successfully installed mysql-connector-python-9.1.0\n"
          ]
        }
      ]
    },
    {
      "source": [
        "import sqlite3\n",
        "\n",
        "# Connect to SQLite (or create a new database if not existing)\n",
        "conn = sqlite3.connect('sample_database.db')\n",
        "cursor = conn.cursor()\n",
        "\n",
        "# Create a sample table (if not exists) and insert data\n",
        "cursor.execute('''\n",
        "CREATE TABLE IF NOT EXISTS employees (\n",
        "    id INTEGER PRIMARY KEY,\n",
        "    name TEXT,\n",
        "    department TEXT,\n",
        "    salaryw REAL\n",
        ")\n",
        "''')\n",
        "\n",
        "# Insert some sample data\n",
        "cursor.executemany('''\n",
        "INSERT INTO employees (name, department, salaryw)\n",
        "VALUES (?, ?, ?)\n",
        "''', [\n",
        "    ('Alice', 'HR', 70000),\n",
        "    ('Bob', 'Engineering', 95000),\n",
        "    ('Charlie', 'Marketing', 60000)\n",
        "])\n",
        "\n",
        "conn.commit()  # Save changes"
      ],
      "cell_type": "code",
      "metadata": {
        "id": "BLjp0TQgHEw5"
      },
      "execution_count": 3,
      "outputs": []
    },
    {
      "cell_type": "code",
      "source": [
        "# Query data\n",
        "cursor.execute(\"SELECT * FROM employees\")\n",
        "\n",
        "# Fetch all rows from the executed query\n",
        "rows = cursor.fetchall()\n",
        "\n",
        "# Print each row\n",
        "for row in rows:\n",
        "    print(row)\n",
        "\n",
        "# Close the connection\n",
        "conn.close()\n"
      ],
      "metadata": {
        "colab": {
          "base_uri": "https://localhost:8080/"
        },
        "id": "dQ__YznLG88U",
        "outputId": "ef7181c0-0fa7-4fe8-b7a0-3af70147e9ae"
      },
      "execution_count": 4,
      "outputs": [
        {
          "output_type": "stream",
          "name": "stdout",
          "text": [
            "(1, 'Alice', 'HR', 70000.0)\n",
            "(2, 'Bob', 'Engineering', 95000.0)\n",
            "(3, 'Charlie', 'Marketing', 60000.0)\n"
          ]
        }
      ]
    }
  ]
}